{
  "nbformat": 4,
  "nbformat_minor": 0,
  "metadata": {
    "colab": {
      "private_outputs": true,
      "provenance": [],
      "collapsed_sections": [
        "JlHwYmJAmNHm",
        "35m5QtbWiB9F",
        "PoPl-ycgm1ru",
        "u3PMJOP6ngxN",
        "448CDAPjqfQr"
      ],
      "include_colab_link": true
    },
    "kernelspec": {
      "name": "python3",
      "display_name": "Python 3"
    },
    "language_info": {
      "name": "python"
    },
    "accelerator": "TPU"
  },
  "cells": [
    {
      "cell_type": "markdown",
      "metadata": {
        "id": "view-in-github",
        "colab_type": "text"
      },
      "source": [
        "<a href=\"https://colab.research.google.com/github/Hrms1995/EDA-Play-Store-App-and-Review-Analysis/blob/main/Harsh_Vardhan_Singh_Rathore_EDA_Submission.ipynb\" target=\"_parent\"><img src=\"https://colab.research.google.com/assets/colab-badge.svg\" alt=\"Open In Colab\"/></a>"
      ]
    },
    {
      "cell_type": "markdown",
      "source": [
        "# **Project Name**    -Playstore_analysis\n",
        "\n"
      ],
      "metadata": {
        "id": "vncDsAP0Gaoa"
      }
    },
    {
      "cell_type": "markdown",
      "source": [
        "\n",
        "\n",
        "```\n",
        "# This is formatted as code\n",
        "```\n",
        "\n",
        "##### **Project Type**    - EDA\n",
        "##### **Contribution**    - Individual\n",
        "##### **Team Member 1 -** Harsh Vardhan Singh Rathore\n"
      ],
      "metadata": {
        "id": "beRrZCGUAJYm"
      }
    },
    {
      "cell_type": "markdown",
      "source": [
        "# **Project Summary -**"
      ],
      "metadata": {
        "id": "FJNUwmbgGyua"
      }
    },
    {
      "cell_type": "markdown",
      "source": [
        "Write the summary here within 500-600 words ?\n",
        "\n"
      ],
      "metadata": {
        "id": "F6v_1wHtG2nS"
      }
    },
    {
      "cell_type": "markdown",
      "source": [
        "The Google Play Store is a vast marketplace for mobile apps, with over 3 million apps available for download. With so many options to choose from, it can be difficult to find the right apps to be developed. That's where data analysis comes in.\n",
        "By analyzing data from the Play Store, we can gain insights into which apps are the most popular, which categories are the most in-demand, and which features users are looking for.This information can then be used to make informed decisions about developing the app in particular category.\n",
        "\n",
        "In this project, we will conduct an exploratory data analysis (EDA) of the Google Play Store dataset. We will explore the data to gain insights into the following aspects:\n",
        "\n",
        "* The most popular apps\n",
        "* The most in-demand categories\n",
        "* The features that users are looking for\n",
        "* The relationship between app ratings and downloads\n",
        "* The relationship between app price and downloads\n",
        "\n",
        "We will use Python and the Pandas library to perform our analysis. We will also use the matplotlib library to create visualizations of our data.\n",
        "\n",
        "The results of our analysis will be presented in a report. The report will include a summary of our findings, as well as recommendations for how to use the data to make informed decisions about which apps to be developed in which category.\n",
        "\n",
        "We hope that this project will help you to better understand the Google Play Store and make more informed decisions about which apps to develop in which category."
      ],
      "metadata": {
        "id": "3iThyhkDlTYo"
      }
    },
    {
      "cell_type": "markdown",
      "source": [
        "# **GitHub Link -**"
      ],
      "metadata": {
        "id": "w6K7xa23Elo4"
      }
    },
    {
      "cell_type": "markdown",
      "source": [
        "Provide your GitHub Link here."
      ],
      "metadata": {
        "id": "h1o69JH3Eqqn"
      }
    },
    {
      "cell_type": "markdown",
      "source": [
        "# **Problem Statement**\n"
      ],
      "metadata": {
        "id": "yQaldy8SH6Dl"
      }
    },
    {
      "cell_type": "markdown",
      "source": [
        "#### **Define Your Business Objective?**"
      ],
      "metadata": {
        "id": "PH-0ReGfmX4f"
      }
    },
    {
      "cell_type": "markdown",
      "source": [
        "Answer Here."
      ],
      "metadata": {
        "id": "PhDvGCAqmjP1"
      }
    },
    {
      "cell_type": "markdown",
      "source": [
        "# **General Guidelines** : -  "
      ],
      "metadata": {
        "id": "mDgbUHAGgjLW"
      }
    },
    {
      "cell_type": "markdown",
      "source": [
        "1.   Well-structured, formatted, and commented code is required.\n",
        "2.   Exception Handling, Production Grade Code & Deployment Ready Code will be a plus. Those students will be awarded some additional credits.\n",
        "     \n",
        "     The additional credits will have advantages over other students during Star Student selection.\n",
        "       \n",
        "             [ Note: - Deployment Ready Code is defined as, the whole .ipynb notebook should be executable in one go\n",
        "                       without a single error logged. ]\n",
        "\n",
        "3.   Each and every logic should have proper comments.\n",
        "4. You may add as many number of charts you want. Make Sure for each and every chart the following format should be answered.\n",
        "        \n",
        "\n",
        "```\n",
        "# Chart visualization code\n",
        "```\n",
        "            \n",
        "\n",
        "*   Why did you pick the specific chart?\n",
        "*   What is/are the insight(s) found from the chart?\n",
        "* Will the gained insights help creating a positive business impact?\n",
        "Are there any insights that lead to negative growth? Justify with specific reason.\n",
        "\n",
        "5. You have to create at least 20 logical & meaningful charts having important insights.\n",
        "\n",
        "\n",
        "[ Hints : - Do the Vizualization in  a structured way while following \"UBM\" Rule.\n",
        "\n",
        "U - Univariate Analysis,\n",
        "\n",
        "B - Bivariate Analysis (Numerical - Categorical, Numerical - Numerical, Categorical - Categorical)\n",
        "\n",
        "M - Multivariate Analysis\n",
        " ]\n",
        "\n",
        "\n",
        "\n"
      ],
      "metadata": {
        "id": "ZrxVaUj-hHfC"
      }
    },
    {
      "cell_type": "markdown",
      "source": [
        "# ***Let's Begin !***"
      ],
      "metadata": {
        "id": "O_i_v8NEhb9l"
      }
    },
    {
      "cell_type": "markdown",
      "source": [
        "## ***1. Know Your Data***"
      ],
      "metadata": {
        "id": "HhfV-JJviCcP"
      }
    },
    {
      "cell_type": "markdown",
      "source": [
        "### Import Libraries"
      ],
      "metadata": {
        "id": "Y3lxredqlCYt"
      }
    },
    {
      "cell_type": "code",
      "source": [
        "# Import Libraries\n",
        "import pandas  as pd\n",
        "import numpy as np\n",
        "import matplotlib.pyplot as plt\n",
        "from google.colab import drive\n",
        "import seaborn as sns\n",
        "import matplotlib.pyplot as plt"
      ],
      "metadata": {
        "id": "M8Vqi-pPk-HR"
      },
      "execution_count": null,
      "outputs": []
    },
    {
      "cell_type": "markdown",
      "source": [
        "### Dataset Loading"
      ],
      "metadata": {
        "id": "3RnN4peoiCZX"
      }
    },
    {
      "cell_type": "code",
      "source": [
        "# Load Dataset\n",
        "drive.mount('/content/Play_Store_Data.csv')\n",
        "df_psd=pd.read_csv('/content/Play_Store_Data.csv/MyDrive/Play Store Data.csv')\n",
        "User_Review = pd.read_csv('/content/User Reviews.csv')"
      ],
      "metadata": {
        "id": "4CkvbW_SlZ_R"
      },
      "execution_count": null,
      "outputs": []
    },
    {
      "cell_type": "markdown",
      "source": [
        "### Dataset First View"
      ],
      "metadata": {
        "id": "x71ZqKXriCWQ"
      }
    },
    {
      "cell_type": "code",
      "source": [
        "# Dataset First Look\n",
        "df_psd"
      ],
      "metadata": {
        "id": "LWNFOSvLl09H"
      },
      "execution_count": null,
      "outputs": []
    },
    {
      "cell_type": "markdown",
      "source": [
        "### Dataset Information"
      ],
      "metadata": {
        "id": "JlHwYmJAmNHm"
      }
    },
    {
      "cell_type": "code",
      "source": [
        "# Dataset Info\n",
        "df_psd.info()"
      ],
      "metadata": {
        "id": "e9hRXRi6meOf"
      },
      "execution_count": null,
      "outputs": []
    },
    {
      "cell_type": "markdown",
      "source": [
        "#### Duplicate Values"
      ],
      "metadata": {
        "id": "35m5QtbWiB9F"
      }
    },
    {
      "cell_type": "code",
      "source": [
        "# Dataset Duplicate Value Count\n",
        "df_psd.duplicated().sum()"
      ],
      "metadata": {
        "id": "1sLdpKYkmox0"
      },
      "execution_count": null,
      "outputs": []
    },
    {
      "cell_type": "markdown",
      "source": [
        "#### Missing Values/Null Values"
      ],
      "metadata": {
        "id": "PoPl-ycgm1ru"
      }
    },
    {
      "cell_type": "code",
      "source": [
        "# Missing Values/Null Values Count\n",
        "df_psd.isnull().sum()"
      ],
      "metadata": {
        "id": "GgHWkxvamxVg"
      },
      "execution_count": null,
      "outputs": []
    },
    {
      "cell_type": "code",
      "source": [
        "# Visualizing the missing values\n",
        "sns.heatmap(df_psd.isnull(),cbar = False)"
      ],
      "metadata": {
        "id": "3q5wnI3om9sJ"
      },
      "execution_count": null,
      "outputs": []
    },
    {
      "cell_type": "markdown",
      "source": [
        "### What did you know about your dataset?"
      ],
      "metadata": {
        "id": "H0kj-8xxnORC"
      }
    },
    {
      "cell_type": "markdown",
      "source": [
        "Answer:\n",
        "1. dataset consist of 10841 rows and 13 columns\n",
        "2. The data set contain 483 duplicated values\n",
        "3. the rating data has the highest null values 1474"
      ],
      "metadata": {
        "id": "gfoNAAC-nUe_"
      }
    },
    {
      "cell_type": "markdown",
      "source": [
        "## ***2. Understanding Your Variables***"
      ],
      "metadata": {
        "id": "nA9Y7ga8ng1Z"
      }
    },
    {
      "cell_type": "code",
      "source": [
        "# Dataset Columns\n",
        "df_psd.columns"
      ],
      "metadata": {
        "id": "j7xfkqrt5Ag5"
      },
      "execution_count": null,
      "outputs": []
    },
    {
      "cell_type": "code",
      "source": [
        "# Dataset Describe\n",
        "df_psd.describe()"
      ],
      "metadata": {
        "id": "DnOaZdaE5Q5t"
      },
      "execution_count": null,
      "outputs": []
    },
    {
      "cell_type": "markdown",
      "source": [
        "### Check Unique Values for each variable."
      ],
      "metadata": {
        "id": "u3PMJOP6ngxN"
      }
    },
    {
      "cell_type": "code",
      "source": [
        "# Check Unique Values for each variable.\n",
        "df_psd['App'].unique()"
      ],
      "metadata": {
        "id": "zms12Yq5n-jE"
      },
      "execution_count": null,
      "outputs": []
    },
    {
      "cell_type": "code",
      "source": [
        "df_psd['Category'].unique()"
      ],
      "metadata": {
        "id": "MIyQU4q2YuvU"
      },
      "execution_count": null,
      "outputs": []
    },
    {
      "cell_type": "code",
      "source": [
        "df_psd['Rating'].unique()"
      ],
      "metadata": {
        "id": "VVTvDpyuY3x4"
      },
      "execution_count": null,
      "outputs": []
    },
    {
      "cell_type": "code",
      "source": [
        "df_psd[ 'Reviews'].unique()"
      ],
      "metadata": {
        "id": "O3chZ4sRY9Nb"
      },
      "execution_count": null,
      "outputs": []
    },
    {
      "cell_type": "code",
      "source": [
        "df_psd['Size'].unique()"
      ],
      "metadata": {
        "id": "p7i7ADutZCrp"
      },
      "execution_count": null,
      "outputs": []
    },
    {
      "cell_type": "code",
      "source": [
        "df_psd['Installs'].unique()"
      ],
      "metadata": {
        "id": "mPb8UOS-ZJwX"
      },
      "execution_count": null,
      "outputs": []
    },
    {
      "cell_type": "code",
      "source": [
        "df_psd['Type'].unique()"
      ],
      "metadata": {
        "id": "uzM5sEKNZPeT"
      },
      "execution_count": null,
      "outputs": []
    },
    {
      "cell_type": "code",
      "source": [
        "df_psd['Price'].unique()"
      ],
      "metadata": {
        "id": "fz8QaVLnZXAA"
      },
      "execution_count": null,
      "outputs": []
    },
    {
      "cell_type": "code",
      "source": [
        "df_psd['Content Rating'].unique()\n"
      ],
      "metadata": {
        "id": "4gDuJ33-Zg8U"
      },
      "execution_count": null,
      "outputs": []
    },
    {
      "cell_type": "code",
      "source": [
        "df_psd['Genres'].unique()"
      ],
      "metadata": {
        "id": "L9OQn7V5Z8bl"
      },
      "execution_count": null,
      "outputs": []
    },
    {
      "cell_type": "code",
      "source": [
        "df_psd['Last Updated'].unique()"
      ],
      "metadata": {
        "id": "QCcF02pFaBaO"
      },
      "execution_count": null,
      "outputs": []
    },
    {
      "cell_type": "code",
      "source": [
        "df_psd['Current Ver'].unique()"
      ],
      "metadata": {
        "id": "2V33iVJDaFlp"
      },
      "execution_count": null,
      "outputs": []
    },
    {
      "cell_type": "code",
      "source": [
        "df_psd['Android Ver'].unique()"
      ],
      "metadata": {
        "id": "5urVDVSxaIJc"
      },
      "execution_count": null,
      "outputs": []
    },
    {
      "cell_type": "code",
      "source": [
        "df_psd[\"Type\"]=df_psd[\"Type\"].replace(\"0\",np.nan)\n"
      ],
      "metadata": {
        "id": "NvFhWD9V3Kve"
      },
      "execution_count": null,
      "outputs": []
    },
    {
      "cell_type": "code",
      "source": [
        "df_psd[\"Content Rating\"].unique()\n",
        "df_psd[\"Content Rating\"]=df_psd[\"Content Rating\"].replace('Unrated',np.nan)\n",
        "df_psd[\"Content Rating\"].unique()"
      ],
      "metadata": {
        "id": "JnXdLRXr3ZjM"
      },
      "execution_count": null,
      "outputs": []
    },
    {
      "cell_type": "code",
      "source": [
        "df_psd['Genres'].apply(lambda x:x.replace(\";\",\"&\")if \";\"in str(x) else x)\n",
        "df_psd['Genres']=df_psd.Genres.replace('February 11, 2018',np.nan)\n",
        "df_psd['Genres'].unique()"
      ],
      "metadata": {
        "id": "a16bwP-m3chA"
      },
      "execution_count": null,
      "outputs": []
    },
    {
      "cell_type": "code",
      "source": [
        "df_psd.drop(10472)"
      ],
      "metadata": {
        "id": "O5KznHZp3kvt"
      },
      "execution_count": null,
      "outputs": []
    },
    {
      "cell_type": "code",
      "source": [
        "df_psd['Rating'].unique()\n",
        "df_psd['Rating']=df_psd['Rating'].apply(lambda x: float(x))"
      ],
      "metadata": {
        "id": "kqW-a6eN4mgK"
      },
      "execution_count": null,
      "outputs": []
    },
    {
      "cell_type": "code",
      "source": [
        "df_psd.drop_duplicates(inplace=True)"
      ],
      "metadata": {
        "id": "avUSGlX14uD4"
      },
      "execution_count": null,
      "outputs": []
    },
    {
      "cell_type": "code",
      "source": [
        "df_psd.dropna(subset=['App','Category','Installs','Type','Content Rating','Genres','Current Ver','Android Ver'], axis=0, inplace=True)\n",
        "df_psd.info()"
      ],
      "metadata": {
        "id": "vJ64EmBv4zHw"
      },
      "execution_count": null,
      "outputs": []
    },
    {
      "cell_type": "code",
      "source": [
        "df_psd.isnull().sum().sort_values(ascending=False)"
      ],
      "metadata": {
        "id": "Igz0mo1F5E74"
      },
      "execution_count": null,
      "outputs": []
    },
    {
      "cell_type": "code",
      "source": [
        "(df_psd.isnull().sum()/len(df_psd)*100).sort_values(ascending=False)"
      ],
      "metadata": {
        "id": "9w9df5vz5Mai"
      },
      "execution_count": null,
      "outputs": []
    },
    {
      "cell_type": "markdown",
      "source": [
        "## 3. ***Data Wrangling***"
      ],
      "metadata": {
        "id": "dauF4eBmngu3"
      }
    },
    {
      "cell_type": "markdown",
      "source": [
        "### Data Wrangling Code"
      ],
      "metadata": {
        "id": "bKJF3rekwFvQ"
      }
    },
    {
      "cell_type": "code",
      "source": [
        "# Write your code to make your dataset analysis ready.\n",
        "def convert_size(size):\n",
        "  if isinstance(size,str):\n",
        "    if 'k' in size:\n",
        "      return float(size.replace('k',\" \"))*1024\n",
        "    elif 'M' in size:\n",
        "      return float(size.replace('M',\" \"))*1024*1024\n",
        "    elif 'Varies with device' in size:\n",
        "      return np.nan\n",
        "  return size"
      ],
      "metadata": {
        "id": "wk-9a2fpoLcV"
      },
      "execution_count": null,
      "outputs": []
    },
    {
      "cell_type": "code",
      "source": [
        "df_psd['Size']=df_psd['Size'].apply(convert_size)\n",
        "df_psd['Size'] = df_psd['Size'].replace(\"1,000+\",'1000')\n",
        "df_psd['Size']= df_psd['Size'].apply(lambda x:float(x))\n",
        "df_psd['Size in MB']= df_psd['Size'].apply(lambda x:x/(1024*1024))"
      ],
      "metadata": {
        "id": "GQ24N9EpgsLI"
      },
      "execution_count": null,
      "outputs": []
    },
    {
      "cell_type": "code",
      "source": [
        "df_psd['Price']=df_psd['Price'].apply(lambda x: x.replace(\"$\",\" \")  if \"$\" in str(x) else(x))\n",
        "df_psd['Price']=df_psd['Price'].apply(lambda x: x.replace('Everyone','0') if 'Everyone' in str(x) else(x))\n",
        "df_psd['Price']=df_psd['Price'].apply(lambda x: float(x))\n",
        "df_psd['Price'].dtype"
      ],
      "metadata": {
        "id": "R4enq3ivwcGd"
      },
      "execution_count": null,
      "outputs": []
    },
    {
      "cell_type": "code",
      "source": [
        "df_psd['Installs'].unique()\n",
        "\n",
        "df_psd['Installs']= df_psd['Installs'].apply(lambda x:x.replace(\",\",\"\")if \",\" in str(x) else(x))\n",
        "df_psd['Installs']= df_psd['Installs'].apply(lambda x:x.replace(\"+\",\" \")if \"+\" in str(x) else(x))\n",
        "df_psd['Installs']=df_psd.Installs.replace(\"Free\",np.nan)\n",
        "df_psd['Installs']=df_psd['Installs'].astype(float)\n",
        "df_psd['Installs'].dtype\n"
      ],
      "metadata": {
        "id": "hDpW51CwwoJh"
      },
      "execution_count": null,
      "outputs": []
    },
    {
      "cell_type": "code",
      "source": [
        "df_psd['Rating'].mean().round(2)\n"
      ],
      "metadata": {
        "id": "y4hYMWE9OIJf"
      },
      "execution_count": null,
      "outputs": []
    },
    {
      "cell_type": "code",
      "source": [
        "df_psd['Rating'] = df_psd['Rating'].fillna(4.2)"
      ],
      "metadata": {
        "id": "KjNlvQqtO_NJ"
      },
      "execution_count": null,
      "outputs": []
    },
    {
      "cell_type": "code",
      "source": [
        "df_psd['Reviews']=df_psd['Reviews'].astype(float)\n",
        "df_psd[\"Type\"]=df_psd[\"Type\"].replace(\"0\",np.nan)\n",
        "\n",
        "df_psd.describe()\n"
      ],
      "metadata": {
        "id": "F3_LmVCp0SRy"
      },
      "execution_count": null,
      "outputs": []
    },
    {
      "cell_type": "code",
      "source": [
        "df_psd.isnull().sum()"
      ],
      "metadata": {
        "id": "gAjNQWulZun3"
      },
      "execution_count": null,
      "outputs": []
    },
    {
      "cell_type": "markdown",
      "source": [
        "### What all manipulations have you done and insights you found?"
      ],
      "metadata": {
        "id": "MSa1f5Uengrz"
      }
    },
    {
      "cell_type": "markdown",
      "source": [
        "Answer\n",
        "      1. I found data was massy and contains lot of error and Size of application was further transformed to MB where new column was framed in form of Size in MB\n",
        "      2. Rating mean was calculated that is 4.2 where null values was replaced with 4.2 rating\n",
        "\n",
        "\n",
        "\n",
        "\n",
        "\n",
        "\n"
      ],
      "metadata": {
        "id": "LbyXE7I1olp8"
      }
    },
    {
      "cell_type": "markdown",
      "source": [
        "## ***4. Data Vizualization, Storytelling & Experimenting with charts : Understand the relationships between variables***"
      ],
      "metadata": {
        "id": "GF8Ens_Soomf"
      }
    },
    {
      "cell_type": "markdown",
      "source": [
        "Q1.Which Category has Highest Number of Reviews?"
      ],
      "metadata": {
        "id": "0wOQAZs5pc--"
      }
    },
    {
      "cell_type": "code",
      "source": [
        "# Chart - 1 visualization code\n",
        "z=df_psd.groupby('Category')['Reviews'].agg(np.sum)\n",
        "Sorted_data=z.sort_values(ascending=False,inplace=True)\n",
        "z.plot(kind='bar',figsize=(10,8))\n",
        "plt.xticks(rotation=90)\n",
        "plt.ylabel('Review',color='Blue')\n",
        "plt.xlabel('Category',color='Blue')\n",
        "plt.title('Category vs Reviews',color='blue')"
      ],
      "metadata": {
        "id": "7v_ESjsspbW7"
      },
      "execution_count": null,
      "outputs": []
    },
    {
      "cell_type": "markdown",
      "source": [
        "##### 1. Why did you pick the specific chart?"
      ],
      "metadata": {
        "id": "K5QZ13OEpz2H"
      }
    },
    {
      "cell_type": "markdown",
      "source": [
        "Answer - Bar Chart was chosen beacause it contain various categorical data"
      ],
      "metadata": {
        "id": "XESiWehPqBRc"
      }
    },
    {
      "cell_type": "markdown",
      "source": [
        "##### 2. What is/are the insight(s) found from the chart?"
      ],
      "metadata": {
        "id": "lQ7QKXXCp7Bj"
      }
    },
    {
      "cell_type": "markdown",
      "source": [
        "Answer. From Graph I found that the Game,Communication, Social, Family,Tools are tp five Category with highest review."
      ],
      "metadata": {
        "id": "C_j1G7yiqdRP"
      }
    },
    {
      "cell_type": "markdown",
      "source": [
        "##### 3. Will the gained insights help creating a positive business impact?\n",
        "Are there any insights that lead to negative growth? Justify with specific reason."
      ],
      "metadata": {
        "id": "448CDAPjqfQr"
      }
    },
    {
      "cell_type": "markdown",
      "source": [
        "Answer- It is found that the Highest review caegory will help the developer in understanding the top five category to build a application"
      ],
      "metadata": {
        "id": "3cspy4FjqxJW"
      }
    },
    {
      "cell_type": "markdown",
      "source": [
        "#### Chart - 2"
      ],
      "metadata": {
        "id": "KSlN3yHqYklG"
      }
    },
    {
      "cell_type": "code",
      "source": [
        "# Chart - 2 visualization code\n",
        "z=df_psd.groupby('Category')['Rating'].agg(np.mean).sort_values(ascending=False).head(5)\n",
        "z.plot(kind='bar')\n",
        "plt.xticks(rotation=90)\n",
        "plt.ylabel('Rating',color='Blue')\n",
        "plt.xlabel('Category',color='Blue')\n",
        "plt.title('Category vs Rating',color='blue')"
      ],
      "metadata": {
        "id": "R4YgtaqtYklH"
      },
      "execution_count": null,
      "outputs": []
    },
    {
      "cell_type": "markdown",
      "source": [
        "##### 1. Why did you pick the specific chart?"
      ],
      "metadata": {
        "id": "t6dVpIINYklI"
      }
    },
    {
      "cell_type": "markdown",
      "source": [
        "*Answer Bar chart are mostly used for the categorical data here there are different categories are available."
      ],
      "metadata": {
        "id": "5aaW0BYyYklI"
      }
    },
    {
      "cell_type": "markdown",
      "source": [
        "##### 2. What is/are the insight(s) found from the chart?"
      ],
      "metadata": {
        "id": "ijmpgYnKYklI"
      }
    },
    {
      "cell_type": "markdown",
      "source": [
        "Answer Here, I found that Education , ART_and_ design, Event, Book and references,Personalisation are the top 5 category which poses highest rating."
      ],
      "metadata": {
        "id": "PSx9atu2YklI"
      }
    },
    {
      "cell_type": "markdown",
      "source": [
        "##### 3. Will the gained insights help creating a positive business impact?\n",
        "Are there any insights that lead to negative growth? Justify with specific reason."
      ],
      "metadata": {
        "id": "-JiQyfWJYklI"
      }
    },
    {
      "cell_type": "markdown",
      "source": [
        "*Answer* The data can help developer to know the highest rating app category liked by people so that developer can develop the app in this category\n",
        "\n",
        "---\n",
        "\n"
      ],
      "metadata": {
        "id": "BcBbebzrYklV"
      }
    },
    {
      "cell_type": "markdown",
      "source": [
        "#### Chart - 3"
      ],
      "metadata": {
        "id": "EM7whBJCYoAo"
      }
    },
    {
      "cell_type": "code",
      "source": [
        "# Chart - 3 visualization code\n",
        "z=df_psd.groupby('Category')['Installs'].agg(np.sum).sort_values(ascending=False)\n",
        "z.plot(kind='bar')\n",
        "plt.xlabel('Category',color= 'Blue')\n",
        "plt.ylabel('Installs',color= 'Blue')\n",
        "plt.title('Category vs Installs',color= 'Blue')"
      ],
      "metadata": {
        "id": "t6GMdE67YoAp"
      },
      "execution_count": null,
      "outputs": []
    },
    {
      "cell_type": "markdown",
      "source": [
        "##### 1. Why did you pick the specific chart?"
      ],
      "metadata": {
        "id": "fge-S5ZAYoAp"
      }
    },
    {
      "cell_type": "markdown",
      "source": [
        "Answer Here. Bar Cart is best suitable for the categorical data representation"
      ],
      "metadata": {
        "id": "5dBItgRVYoAp"
      }
    },
    {
      "cell_type": "markdown",
      "source": [
        "##### 2. What is/are the insight(s) found from the chart?"
      ],
      "metadata": {
        "id": "85gYPyotYoAp"
      }
    },
    {
      "cell_type": "markdown",
      "source": [
        "Answer Here from this chart I found that the  Game, communication, social,productivity and tools are the highest install category."
      ],
      "metadata": {
        "id": "4jstXR6OYoAp"
      }
    },
    {
      "cell_type": "markdown",
      "source": [
        "##### 3. Will the gained insights help creating a positive business impact?\n",
        "Are there any insights that lead to negative growth? Justify with specific reason."
      ],
      "metadata": {
        "id": "RoGjAbkUYoAp"
      }
    },
    {
      "cell_type": "markdown",
      "source": [
        "Answer  It will help developer in developing the app in top category."
      ],
      "metadata": {
        "id": "zfJ8IqMcYoAp"
      }
    },
    {
      "cell_type": "markdown",
      "source": [
        "#### Chart - 4"
      ],
      "metadata": {
        "id": "4Of9eVA-YrdM"
      }
    },
    {
      "cell_type": "code",
      "source": [
        "# Chart - 4 visualization code\n",
        "pie=df_psd['Type'].value_counts()\n",
        "y=[9582,762]\n",
        "z=['Free','Paid']\n",
        "myexplode = [0,0.2]\n",
        "plt.pie(y,labels=z,explode=myexplode,autopct='%1.1f%%')\n",
        "\n",
        "plt.legend()\n",
        "plt.show()"
      ],
      "metadata": {
        "id": "irlUoxc8YrdO"
      },
      "execution_count": null,
      "outputs": []
    },
    {
      "cell_type": "markdown",
      "source": [
        "##### 1. Why did you pick the specific chart?"
      ],
      "metadata": {
        "id": "iky9q4vBYrdO"
      }
    },
    {
      "cell_type": "markdown",
      "source": [
        "Answer Here I chosed the pie Chart which is best suitable for proportion."
      ],
      "metadata": {
        "id": "aJRCwT6DYrdO"
      }
    },
    {
      "cell_type": "markdown",
      "source": [
        "##### 2. What is/are the insight(s) found from the chart?"
      ],
      "metadata": {
        "id": "F6T5p64dYrdO"
      }
    },
    {
      "cell_type": "markdown",
      "source": [
        "Answer Here I found that the 92.6% are free app and 7.4% is only paid app"
      ],
      "metadata": {
        "id": "Xx8WAJvtYrdO"
      }
    },
    {
      "cell_type": "markdown",
      "source": [
        "##### 3. Will the gained insights help creating a positive business impact?\n",
        "Are there any insights that lead to negative growth? Justify with specific reason."
      ],
      "metadata": {
        "id": "y-Ehk30pYrdP"
      }
    },
    {
      "cell_type": "markdown",
      "source": [
        "\n",
        "\n",
        "Answer Here It will help the developer to know that after developing that I should put the app in the free and paid"
      ],
      "metadata": {
        "id": "jLNxxz7MYrdP"
      }
    },
    {
      "cell_type": "markdown",
      "source": [
        "#### Chart - 5"
      ],
      "metadata": {
        "id": "bamQiAODYuh1"
      }
    },
    {
      "cell_type": "code",
      "source": [
        "# Chart - 5 visualization code\n",
        "x=[]\n",
        "y=[]\n",
        "z=dict(df_psd['Content Rating'].value_counts())\n",
        "for key, value in z.items():\n",
        "  x.append(key)\n",
        "  y.append(value)\n",
        "  plt.bar(x,y)\n",
        "  plt.xticks(rotation = 45)\n",
        "  plt.ylabel('Content Rating')"
      ],
      "metadata": {
        "id": "TIJwrbroYuh3"
      },
      "execution_count": null,
      "outputs": []
    },
    {
      "cell_type": "markdown",
      "source": [
        "##### 1. Why did you pick the specific chart?"
      ],
      "metadata": {
        "id": "QHF8YVU7Yuh3"
      }
    },
    {
      "cell_type": "markdown",
      "source": [
        "Answer Here. Bar chart is best suitable for representing the categorical Data"
      ],
      "metadata": {
        "id": "dcxuIMRPYuh3"
      }
    },
    {
      "cell_type": "markdown",
      "source": [
        "##### 2. What is/are the insight(s) found from the chart?"
      ],
      "metadata": {
        "id": "GwzvFGzlYuh3"
      }
    },
    {
      "cell_type": "markdown",
      "source": [
        "Answer Here, It is found that the app that are made downloading for everyone has the highest download"
      ],
      "metadata": {
        "id": "uyqkiB8YYuh3"
      }
    },
    {
      "cell_type": "markdown",
      "source": [
        "##### 3. Will the gained insights help creating a positive business impact?\n",
        "Are there any insights that lead to negative growth? Justify with specific reason."
      ],
      "metadata": {
        "id": "qYpmQ266Yuh3"
      }
    },
    {
      "cell_type": "markdown",
      "source": [
        "\n",
        "\n",
        "\n",
        "\n",
        "Answer Here: It will help the developer to develop the app by keeping everyone in mind."
      ],
      "metadata": {
        "id": "_WtzZ_hCYuh4"
      }
    },
    {
      "cell_type": "markdown",
      "source": [
        "\n",
        "\n",
        "\n",
        "\n",
        "#### Chart - 6"
      ],
      "metadata": {
        "id": "OH-pJp9IphqM"
      }
    },
    {
      "cell_type": "code",
      "source": [
        "# top 20 app with highest number of install\n",
        "df_psd.groupby('App')['Installs'].max().sort_values(ascending=False).head(20)"
      ],
      "metadata": {
        "id": "kuRf4wtuphqN"
      },
      "execution_count": null,
      "outputs": []
    },
    {
      "cell_type": "markdown",
      "source": [
        "#### Chart - 7"
      ],
      "metadata": {
        "id": "PIIx-8_IphqN"
      }
    },
    {
      "cell_type": "code",
      "source": [
        "# Chart - 7 visualization code\n",
        "plt.figure(figsize=(15,10))\n",
        "num_col= ['Rating','Reviews','Installs','Price','Size','Size in MB']\n",
        "sns.heatmap(df_psd[num_col].corr(),annot=True)"
      ],
      "metadata": {
        "id": "lqAIGUfyphqO"
      },
      "execution_count": null,
      "outputs": []
    },
    {
      "cell_type": "markdown",
      "source": [
        "##### 1. Why did you pick the specific chart?"
      ],
      "metadata": {
        "id": "t27r6nlMphqO"
      }
    },
    {
      "cell_type": "markdown",
      "source": [
        "\n",
        "\n",
        "\n",
        "\n",
        "Answer Here. for showing correlation among different column this heatmap plot is best suitable"
      ],
      "metadata": {
        "id": "iv6ro40sphqO"
      }
    },
    {
      "cell_type": "markdown",
      "source": [
        "##### 2. What is/are the insight(s) found from the chart?"
      ],
      "metadata": {
        "id": "r2jJGEOYphqO"
      }
    },
    {
      "cell_type": "markdown",
      "source": [
        "Answer Here\n",
        "1. after plot,come to know that there is relation between Reviews and Installs."
      ],
      "metadata": {
        "id": "Po6ZPi4hphqO"
      }
    },
    {
      "cell_type": "markdown",
      "source": [
        "Answer Here"
      ],
      "metadata": {
        "id": "xvSq8iUTphqO"
      }
    },
    {
      "cell_type": "markdown",
      "source": [
        "#### Chart - 8"
      ],
      "metadata": {
        "id": "BZR9WyysphqO"
      }
    },
    {
      "cell_type": "code",
      "source": [
        "# Chart - 8 visualization code\n",
        "\n",
        "sns.pairplot(df_psd)"
      ],
      "metadata": {
        "id": "TdPTWpAVphqO"
      },
      "execution_count": null,
      "outputs": []
    },
    {
      "cell_type": "markdown",
      "source": [
        "#### Chart - 9"
      ],
      "metadata": {
        "id": "YJ55k-q6phqO"
      }
    },
    {
      "cell_type": "code",
      "source": [
        "plt.figure(figsize=(8,6))\n",
        "sns.scatterplot(x='Price',y='Installs',data=df_psd)\n",
        "\n"
      ],
      "metadata": {
        "id": "B2aS4O1ophqO"
      },
      "execution_count": null,
      "outputs": []
    },
    {
      "cell_type": "markdown",
      "source": [
        "##### 1. Why did you pick the specific chart?"
      ],
      "metadata": {
        "id": "gCFgpxoyphqP"
      }
    },
    {
      "cell_type": "markdown",
      "source": [
        "Answer Here."
      ],
      "metadata": {
        "id": "TVxDimi2phqP"
      }
    },
    {
      "cell_type": "markdown",
      "source": [
        "##### 2. What is/are the insight(s) found from the chart?"
      ],
      "metadata": {
        "id": "OVtJsKN_phqQ"
      }
    },
    {
      "cell_type": "markdown",
      "source": [
        "Answer Here It is found from the chart that the data has highest install in price range between 0 to 100 beacuse it have the dense region in between that region only"
      ],
      "metadata": {
        "id": "ngGi97qjphqQ"
      }
    },
    {
      "cell_type": "markdown",
      "source": [
        "##### 3. Will the gained insights help creating a positive business impact?\n",
        "Are there any insights that lead to negative growth? Justify with specific reason."
      ],
      "metadata": {
        "id": "lssrdh5qphqQ"
      }
    },
    {
      "cell_type": "markdown",
      "source": [
        "Answer- If developer is trying to develop app and want to develop paid app can put price of app in between 0 to 100\n",
        "\n"
      ],
      "metadata": {
        "id": "tBpY5ekJphqQ"
      }
    },
    {
      "cell_type": "markdown",
      "source": [
        "#### Chart - 10"
      ],
      "metadata": {
        "id": "U2RJ9gkRphqQ"
      }
    },
    {
      "cell_type": "code",
      "source": [
        "# Chart - 10 visualization code\n",
        "z= df_psd.groupby('Size in MB')['Installs'].sum().sort_values(ascending = False).head(10)\n",
        "z.plot(kind='bar')\n",
        "plt.ylabel('Installs')"
      ],
      "metadata": {
        "id": "GM7a4YP4phqQ"
      },
      "execution_count": null,
      "outputs": []
    },
    {
      "cell_type": "markdown",
      "source": [
        "Developer Should keep the range of the app size between 76 to 67 Mb for having max installs"
      ],
      "metadata": {
        "id": "AD3wO81TnUuz"
      }
    },
    {
      "cell_type": "code",
      "source": [
        "# sum all the category\n",
        "x=[]\n",
        "y=[]\n",
        "z=df_psd['Category'].value_counts().sort_values(ascending = False).head(10)\n",
        "for key, value in z.items():\n",
        "  x.append(key)\n",
        "  y.append(value)\n",
        "\n",
        "plt.pie(y,labels=x,autopct='%1.1f%%')\n",
        "\n"
      ],
      "metadata": {
        "id": "PVTcfzEyoQ7q"
      },
      "execution_count": null,
      "outputs": []
    },
    {
      "cell_type": "code",
      "source": [
        "# Most popular paid app\n",
        "\n",
        "df_paid = df_psd[df_psd['Type'] == 'Paid']\n",
        "z=df_paid['App'].value_counts().sort_values(ascending=False).head(10)\n",
        "z.plot(kind = 'bar')\n",
        "plt.xlabel('Top_Paid_App')\n",
        "plt.ylabel('Values')"
      ],
      "metadata": {
        "id": "S90JeLpb2PJc"
      },
      "execution_count": null,
      "outputs": []
    },
    {
      "cell_type": "markdown",
      "source": [
        "\n",
        "\n",
        "```\n",
        "# This is formatted as code\n",
        "```\n",
        "\n",
        "Here, I have choosen bar chart which is best for categorical presentation.\n",
        "I have plotted a graph to know the Top paid App. Minecraft, camera fv5,The Game of life etc are top paid app downloaded from playstore."
      ],
      "metadata": {
        "id": "mziRcFPbCT3x"
      }
    },
    {
      "cell_type": "code",
      "source": [
        "df_paid = df_psd[df_psd['Type'] == 'Free']\n",
        "z=df_paid['App'].value_counts().sort_values(ascending=False).head(10)\n",
        "z.plot(kind = 'bar')\n",
        "plt.xlabel('Top_Free_App')\n",
        "plt.ylabel('Values')"
      ],
      "metadata": {
        "id": "AG-CMewb4Ek4"
      },
      "execution_count": null,
      "outputs": []
    },
    {
      "cell_type": "markdown",
      "source": [
        "Here I Have choose bar chart which is best for categorical presentation.\n",
        "I have plotted a graph to know the Top Free App, Roblox, 8 Ball Pool,BubbleShooter etc are top free app downloaded from playstore."
      ],
      "metadata": {
        "id": "k5eU3ORnDOq-"
      }
    },
    {
      "cell_type": "code",
      "source": [
        "#Review Analysis\n",
        "merged_df = pd.merge(df_psd,User_Review, on ='App', how = \"inner\")\n",
        "merged_df = merged_df.dropna(subset=['Sentiment', 'Translated_Review'])\n",
        "sns.set_style('ticks')\n",
        "fig, ax = plt.subplots()\n",
        "fig.set_size_inches(11, 8)\n",
        "ax = sns.boxplot(x =merged_df['Type'], y =merged_df['Sentiment_Polarity'])\n",
        "ax.set_title('Sentiment Polarity Distribution')\n"
      ],
      "metadata": {
        "id": "5i4ZD6oUVuRx"
      },
      "execution_count": null,
      "outputs": []
    },
    {
      "cell_type": "markdown",
      "source": [
        "\n",
        "The box plot shows the distribution of sentiment polarity for free and paid apps. The median sentiment polarity for free apps is 0.35, while the median sentiment polarity for paid apps is 0.45. This suggests that users are generally more positive about free apps than paid apps. However, it is important to note that there is a lot of variation in sentiment polarity for both free and paid apps."
      ],
      "metadata": {
        "id": "-au1KxrIZy8p"
      }
    },
    {
      "cell_type": "markdown",
      "source": [
        "# **Conclusion**"
      ],
      "metadata": {
        "id": "gCX9965dhzqZ"
      }
    },
    {
      "cell_type": "markdown",
      "source": [
        "\n",
        "1.The “Family” category emerges as the most popular, followed by “Game” and “Tools,” indicating prevalent genres among apps. Noteworthy apps in the “Family” category include Google Play Games and Minecraft. The “Game” and “Communication” categories drive the highest number of installations.\n",
        "2.A strong positive correlation is observed between reviews and installations.\n",
        "3.If developer is trying to develop a app and want to put in paid region, can put price range in between 0 to 100.\n",
        "4.Content rating should be made everyone.\n",
        "5.Free App has the Highest number of downloads.\n",
        "6.Mine craft and Camera FV5 are the top paid app.\n",
        "7.Roblox and 8ball pool are top free app.\n",
        "\n",
        "The findings can serve as a valuable guide for app developers and marketers to strategize their app design, development, and pricing.\n"
      ],
      "metadata": {
        "id": "Fjb1IsQkh3yE"
      }
    }
  ]
}